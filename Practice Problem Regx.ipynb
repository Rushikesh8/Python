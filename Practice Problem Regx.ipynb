{
 "cells": [
  {
   "cell_type": "code",
   "execution_count": 3,
   "metadata": {},
   "outputs": [],
   "source": [
    "import re"
   ]
  },
  {
   "cell_type": "code",
   "execution_count": 56,
   "metadata": {},
   "outputs": [
    {
     "name": "stdout",
     "output_type": "stream",
     "text": [
      "Invalid\n"
     ]
    }
   ],
   "source": [
    "s = '31-02-2001'\n",
    "r = re.compile(\"([0-9]{2})-([0-9]{2})-([0-9]{4})\")\n",
    "s = re.search(r,s)\n",
    "year = int(s.group(3))\n",
    "date = int(s.group(1))\n",
    "month = int(s.group(2))\n",
    "\n",
    "if (year%4==0 and year%100!=0 or year%400==0):\n",
    "    if month == 2 and date > 29:\n",
    "        print(\"Invalid as given year is a leap year\")\n",
    "    elif month == 9 or 4 or 6 or 11:\n",
    "        if date < 31:\n",
    "            print(\"Valid\")\n",
    "        else:\n",
    "            print(\"Invalid\")\n",
    "    elif date <= 31 and month <= 12:\n",
    "        print(\"Valid\")\n",
    "    \n",
    "elif month == 9 or 4 or 6 or 11:\n",
    "    if date < 31:\n",
    "        print(\"Valid\")\n",
    "    else:\n",
    "        print(\"Invalid\")\n",
    "elif month == 2:\n",
    "    if date > 28:\n",
    "        print(\"Invalid\")\n",
    "elif date <= 31 and month <= 12:\n",
    "    print(\"Valid\")\n",
    "else:\n",
    "    print(\"Invalid\")"
   ]
  },
  {
   "cell_type": "code",
   "execution_count": 73,
   "metadata": {},
   "outputs": [
    {
     "name": "stdout",
     "output_type": "stream",
     "text": [
      "The code is present at url www.edyoda.com/code/python or www.github.com/edyoda/python\n",
      "The code is present at url <a href=\"www.edyoda.com/code/python\">Click Here</a> or <a href=\"www.github.com/edyoda/python\">Click Here</a>\n"
     ]
    }
   ],
   "source": [
    "s = \"The code is present at url www.edyoda.com/code/python or www.github.com/edyoda/python\"\n",
    "print(s)\n",
    "r = re.compile(\"[w]{3}\\.[A-Za-z]+\\.[a-z]{3}/[a-zA-Z]+/[a-zA-Z]+\")\n",
    "l = re.findall(r,s)\n",
    "s1 = l[0]\n",
    "s2 = l[1]\n",
    "s = s.replace(s1,'<a href=\"www.edyoda.com/code/python\">Click Here</a>')\n",
    "s = s.replace(s2,'<a href=\"www.github.com/edyoda/python\">Click Here</a>')\n",
    "print(s)"
   ]
  },
  {
   "cell_type": "code",
   "execution_count": 62,
   "metadata": {},
   "outputs": [
    {
     "name": "stdout",
     "output_type": "stream",
     "text": [
      "PEP 578: Python Runtime Audit Hooks\n",
      "\n",
      "578\n",
      "PEP 587 Python Initialization Configuration\n",
      "\n",
      "587\n"
     ]
    }
   ],
   "source": [
    "l=[]\n",
    "l1=[]\n",
    "fp = open(\"myfile.txt\",\"r+\")\n",
    "fp1 = open(\"file2.txt\",\"r+\")\n",
    "fp2 = open(\"sample2.txt\",\"r+\",encoding = 'utf-8')\n",
    "firstRead = fp.read()\n",
    "secondRead = fp1.read()\n",
    "fp.seek(0)\n",
    "fp1.seek(0)\n",
    "content = fp.readline()\n",
    "print(content)\n",
    "r = re.compile(\"[0-9]{3}\")\n",
    "content = re.findall(r,content)\n",
    "a = content[0]\n",
    "print(a)\n",
    "content1 = fp1.readline()\n",
    "print(content1)\n",
    "r = re.compile(\"[0-9]{3}\")\n",
    "content1 = re.findall(r,content1)\n",
    "b = content1[0]\n",
    "print(b)\n",
    "if a < b:\n",
    "    fp2.write(secondRead)\n",
    "    fp2.write(\"\\n\\n\\n\")\n",
    "    fp2.write(firstRead)\n",
    "else:\n",
    "    fp2.write(firstRead)\n",
    "    fp2.write(\"\\n\\n\\n\")\n",
    "    fp2.write(secondRead) \n",
    "\n",
    "\n",
    "fp.close()\n",
    "fp1.close()\n",
    "fp2.close()"
   ]
  },
  {
   "cell_type": "code",
   "execution_count": 72,
   "metadata": {},
   "outputs": [],
   "source": [
    "#I'm still trying the 4th question#"
   ]
  }
 ],
 "metadata": {
  "kernelspec": {
   "display_name": "Python 3",
   "language": "python",
   "name": "python3"
  },
  "language_info": {
   "codemirror_mode": {
    "name": "ipython",
    "version": 3
   },
   "file_extension": ".py",
   "mimetype": "text/x-python",
   "name": "python",
   "nbconvert_exporter": "python",
   "pygments_lexer": "ipython3",
   "version": "3.7.5"
  }
 },
 "nbformat": 4,
 "nbformat_minor": 2
}
