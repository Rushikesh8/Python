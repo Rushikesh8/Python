{
 "cells": [
  {
   "cell_type": "code",
   "execution_count": 13,
   "metadata": {},
   "outputs": [
    {
     "name": "stdout",
     "output_type": "stream",
     "text": [
      "zeke"
     ]
    }
   ],
   "source": [
    "\n",
    "# 1.In the pre-smartphone era,each number key is assigned a subset of the alphabet {a,b,…,z}.\n",
    "\n",
    "# - 2 is assigned {a,b,c}, \n",
    "# - 3 is assigned {d,e,f} \n",
    "# - 4 is assigned {g,h,i} \n",
    "# - 5 is assigned {j,k,l}\n",
    "# - 6 is assigned {m,n,o} \n",
    "# - 7 is assigned {p,q,r,s}\n",
    "# - 8 is assigned {t,u,v} \n",
    "# - 9 is assigned {w,x,y,z}\n",
    "\n",
    "# Write a function numbers_to_chars() to find the characters generated using key 9999335533. Output should be \"zeke\"\n",
    "\n",
    "# Function Name : numbers_to_chars() Input : Integer number sequence Output : Str\n",
    "\n",
    "def numbers_to_chars(numbers):\n",
    "    numbers = numbers + \" \"   #added space so that iteration on last number can performed\n",
    "    \n",
    "    numpad = {\"2\":['a','b','c'],\"3\":['d','e','f'],\"4\":['g','h','i'],\"5\":['j','k','l'],\"6\":['m','n','o'],\n",
    "     \"7\":['p','q','r','s'],\"8\":['s','t','u'],\"9\":['w','x','y','z']}\n",
    "    \n",
    "    current_element = numbers[0]\n",
    "    count = -1\n",
    "    result =[]\n",
    "    for value in numbers:\n",
    "        if value == current_element:\n",
    "            count += 1\n",
    "            temp = value\n",
    "        else:\n",
    "            result.append((temp,count))\n",
    "            current_element = value\n",
    "            count = 0\n",
    "    for key,index in result:\n",
    "         print(numpad[key][index],end ='')\n",
    "\n",
    "\n",
    "numbers_to_chars(\"9999335533\")"
   ]
  },
  {
   "cell_type": "code",
   "execution_count": 15,
   "metadata": {},
   "outputs": [
    {
     "name": "stdout",
     "output_type": "stream",
     "text": [
      "{'Bombay': 'Delhi', 'Delhi': 'Goa', 'Goa': 'Chennai', 'Chennai': 'Banglore'}\n"
     ]
    }
   ],
   "source": [
    "# 2.Given a dict of tickets(\"to\":\"from\")\n",
    "\n",
    "# {\"Chennai\":\"Banglore\",\"Bombay\":\"Delhi\",\"Goa\":\"Chennai\",\"Delhi\":\"Goa\"} find out the sequence of travel.\n",
    "\n",
    "# Expected Output : Bombay->Delhi, Delhi->Goa, Goa->Chennai, Chennai->Banglore\n",
    "\n",
    "# Function Name : travel_sequence Input : dict Output : dict\n",
    "\n",
    "\n",
    "def travel_sequence(input_dict):\n",
    "    sequence = {\"Chennai\":\"Banglore\",\"Bombay\":\"Delhi\",\"Goa\":\"Chennai\",\"Delhi\":\"Goa\"}        \n",
    "    output_sequence = {}\n",
    "   \n",
    "    for key,value in input_dict.items():\n",
    "        destination = key\n",
    "        origin = value\n",
    "    \n",
    "    for length in range(len(sequence)):\n",
    "        for keys,values in sequence.items():\n",
    "            if destination == keys:\n",
    "                output_sequence.setdefault(keys,values)\n",
    "                destination = values            \n",
    "    \n",
    "    return output_sequence      \n",
    "            \n",
    "\n",
    "input_dict = {'Bombay':'Banglore'}\n",
    "print(travel_sequence(input_dict))"
   ]
  },
  {
   "cell_type": "code",
   "execution_count": 17,
   "metadata": {},
   "outputs": [
    {
     "name": "stdout",
     "output_type": "stream",
     "text": [
      "True\n"
     ]
    }
   ],
   "source": [
    "# 4.How do you check if a given String contains valid parentheses? Given a string containing just the \n",
    "# characters '(', ')', '{', '}', '[' and ']',write a program in python to check if the input string is valid. \n",
    "# The brackets must close in the correct order, \"()\" and \"()[]{}\" are all valid but \"(]\" and \"([)]\" are not.\n",
    "\n",
    "# Function Name : check_parentheses Input : str Output : True/False\n",
    "\n",
    "def check_parentheses(string):\n",
    "    store = []\n",
    "    for i in range(len(string)):\n",
    "        if(string[i] == '[' or string[i] == '(' or string[i] == '{'):\n",
    "            store.append(i)\n",
    "        elif(string[i] == ')'):\n",
    "            temp = store.pop()\n",
    "            if(temp == '{' or temp == '['):\n",
    "                return False\n",
    "        elif(string[i] == '}'):\n",
    "            temp = store.pop()\n",
    "            if(temp == '(' or temp == '['):\n",
    "                return False\n",
    "        elif(string[i] == ']'):\n",
    "            temp = store.pop()\n",
    "            if(temp == '{' or temp == '('):\n",
    "                return False\n",
    "    if store == []:\n",
    "        return True\n",
    "    else:\n",
    "        return False\n",
    "    \n",
    "\n",
    "print(check_parentheses('[{()}]'))"
   ]
  },
  {
   "cell_type": "code",
   "execution_count": 20,
   "metadata": {},
   "outputs": [
    {
     "name": "stdout",
     "output_type": "stream",
     "text": [
      "V\n"
     ]
    }
   ],
   "source": [
    "# 5.Write a program to convert Integer to Roman String. For example, if a given integer is 5 then your program should print \"V\".\n",
    "\n",
    "# Function Name : int_roman Input : int Output : str\n",
    "\n",
    "def int_roman(int_input):\n",
    "    roman = [\"M\",\"CM\",\"D\",\"CD\",\"C\",\"XC\",\"L\",\"XL\",\"X\",\"IX\",\"V\",\"IV\",\"I\"]\n",
    "    digit = [1000,900,500,400,100,90,50,40,10,9,5,4,1]\n",
    "    if(int_input > 3999 or int_input < 1):\n",
    "        return print(\"Number should be between 1 and 3999\")\n",
    "    else:\n",
    "        i = 0\n",
    "        roman_value = ''\n",
    "        while(int_input > 0):\n",
    "            if(int_input - digit[i] >=0):\n",
    "                roman_value += roman[i]\n",
    "                int_input -= digit[i]\n",
    "            else:\n",
    "                i += 1\n",
    "        return roman_value\n",
    "    \n",
    "print(int_roman(5))   "
   ]
  },
  {
   "cell_type": "code",
   "execution_count": 23,
   "metadata": {},
   "outputs": [
    {
     "name": "stdout",
     "output_type": "stream",
     "text": [
      "12\n"
     ]
    }
   ],
   "source": [
    "# 6.Write a program utility that counts the number of lines of actual python code in a. For the purpose of this exercise, a line is counted if it contains something other than whitespace or text in a comment.\n",
    "\n",
    "# remember that comment start sequences that appear inside python strings should be ignored.\n",
    "\n",
    "# Function Name : count_code_lines Input : str Output : int\n",
    "\n",
    "\n",
    "input_code = \"\"\"\n",
    "#Linear search implementation\n",
    "#Takes list and a key as input and returns True or False as answer\n",
    "def linear_saerch(l,key):\n",
    "    for value in l:\n",
    "        if key == value:\n",
    "            return True #Return True is key exist\n",
    "    else:\n",
    "        return False #Return False if key does not exist\n",
    "\n",
    "l = [100,200,300,400,500,600]\n",
    "key = 500\n",
    "result = linear_search(l,key)\n",
    "print(result)\n",
    "\"\"\"\n",
    "\n",
    "def count_code_lines(input_code):\n",
    "    total_line_count = 0\n",
    "    comment_count = 0\n",
    "    for value in input_code:\n",
    "        if value=='\\n':\n",
    "            total_line_count += 1\n",
    "    input_code = input_code.replace(' ','')  #romving spaces to get character at 0th index\n",
    "    lines = input_code.split('\\n')\n",
    "    for line in lines:\n",
    "        if line != '':\n",
    "            if line[0] == '#':\n",
    "                comment_count+=1\n",
    "\n",
    "    total_lines = total_line_count - comment_count\n",
    "    return total_lines\n",
    "\n",
    "print(count_code_lines(input_code))"
   ]
  },
  {
   "cell_type": "code",
   "execution_count": 3,
   "metadata": {},
   "outputs": [
    {
     "name": "stdout",
     "output_type": "stream",
     "text": [
      "Strong Password\n"
     ]
    }
   ],
   "source": [
    "# 7.Write a program to check the strength of a supplied password\n",
    "\n",
    "# The length of the password must be at least 8 characters in length The password must contain at least 1 capital letter \n",
    "# The password must contain at least 1 digit The password must contain at least 1 special character and \n",
    "# allowed special characters are (!,@,#,$,&)\n",
    "\n",
    "# We need to provide feedback to the user about the strength of their password\n",
    "\n",
    "# Provide the user with a list of reasons why their password is 'weak'\n",
    "# Function Name : check_password_strength Input : str Output : tuple (str,list)\n",
    "#eg (\"Weak\",[\"The password must contain at least 1 capital letter\"])\n",
    "\n",
    "\n",
    "def check_password_strength(string):\n",
    "    special_char = ['!','@','#','&','$']\n",
    "    capital_count = 0\n",
    "    digit_count = 0\n",
    "    special_count = 0\n",
    "    char_count= 0\n",
    "    for value in string:\n",
    "        char_count += 1\n",
    "        if(ord('A')<=ord(value)<=ord('Z')):\n",
    "            capital_count += 1 \n",
    "        elif('0'<=value<='9'):\n",
    "            digit_count += 1\n",
    "        elif value in special_char:\n",
    "            special_count += 1\n",
    "    if char_count < 8:\n",
    "        return (\"Password must contain 8 characters\")\n",
    "    elif(capital_count != 0 and digit_count != 0 and special_count != 0):\n",
    "        return (\"Strong Password\")\n",
    "    else:\n",
    "        if capital_count == 0:\n",
    "            return ((\"Weak\",[\"The password must contain at least 1 capital letter\"]))\n",
    "        elif digit_count ==0:\n",
    "            return ((\"Weak\",[\"The password must contain at least 1 digit\"]))\n",
    "        elif special_count == 0:\n",
    "            return ((\"Weak\",[\"The password must contain at least 1 Special Character\"]))\n",
    "        \n",
    "print(check_password_strength('A9ac@bde'))"
   ]
  },
  {
   "cell_type": "code",
   "execution_count": 33,
   "metadata": {},
   "outputs": [
    {
     "name": "stdout",
     "output_type": "stream",
     "text": [
      "[4, 3, 2, 5]\n"
     ]
    }
   ],
   "source": [
    "# 9.Given an array arr[] of integers and an integer K, the task is to find the greatest contiguous sub-array of size K.\n",
    "\n",
    "# Sub-array X is said to be greater than sub-array Y if the first non-matching element in \n",
    "# both the sub-arrays has a greater value in X than in Y.\n",
    "\n",
    "# For example : Input: arr[] = {1, 4, 3, 2, 5}, K = 4 Output: 4 3 2 5 Two subarrays are {1, 4, 3, 2} and {4, 3, 2, 5}. \n",
    "# First non-matching element from array1 and \n",
    "# array 2 : 1 and 4 as 4 is greater Hence, the greater one is {4, 3, 2, 5}\n",
    "\n",
    "# Function Name : greatest_sub_array() Input : list Output : list\n",
    "\n",
    "def greatest_sub_array(array,k):\n",
    "    temp_list = []\n",
    "    temp_list1 = []\n",
    "    for index,value in enumerate(array):\n",
    "        if value == k:\n",
    "            start_index = index\n",
    "    for val1 in range(start_index,len(array)):\n",
    "        temp_list.append(array[val1])\n",
    "    for val2 in range(0,len(temp_list)):\n",
    "        temp_list1.append(array[val2])\n",
    "        \n",
    "    for i in range(len(temp_list)):\n",
    "        if temp_list[i] != temp_list1[i]:\n",
    "            if((temp_list[i] - temp_list1[i]) >0):\n",
    "                return temp_list\n",
    "            else:\n",
    "                return temp_list1\n",
    "\n",
    "print(greatest_sub_array([1,4,3,2,5],4))"
   ]
  },
  {
   "cell_type": "code",
   "execution_count": 35,
   "metadata": {},
   "outputs": [
    {
     "name": "stdout",
     "output_type": "stream",
     "text": [
      "(2, [1, 3])\n"
     ]
    }
   ],
   "source": [
    "# 10.Given a list of N integers. The task is to eliminate the minimum number of elements such that in \n",
    "# the resulting list the sum of any two adjacent values is even.\n",
    "\n",
    "# Numbers = [1, 3, 5, 4, 2] Output = [1, 3, 5] Total elements removed 2 Elements to be removed [4,2]\n",
    "\n",
    "# Function Name : adj_sum_even() Input : list Output : tuple(int,list)\n",
    "\n",
    "def adj_sum_even(numbers):\n",
    "    even_list = []\n",
    "    odd_list = []\n",
    "    for i in range(len(numbers)):\n",
    "        if(numbers[i]%2 ==0):\n",
    "            even_list.append(numbers[i])\n",
    "        else:\n",
    "            odd_list.append(numbers[i])\n",
    "            \n",
    "    if(len(even_list) < len(odd_list)):\n",
    "        return (len(even_list),even_list)\n",
    "    else:\n",
    "        return (len(odd_list),odd_list)\n",
    "\n",
    "    \n",
    "print(adj_sum_even([1,3,8,4,2]))"
   ]
  },
  {
   "cell_type": "code",
   "execution_count": null,
   "metadata": {},
   "outputs": [],
   "source": [
    "#8.Check if given sentence is syntactically correct or not\n",
    "# A simple sentence if syntactically correct if it fulfills given rules. The following are given rules.\n",
    "\n",
    "# Sentence must start with a Uppercase character (e.g. Noun/ I/ We/ He etc.)\n",
    "# There must be spaces between words.\n",
    "# Then the sentence must end with a full stop(.).\n",
    "# Two continuous spaces are not allowed.\n",
    "# Two continuous uppercase characters are not allowed.\n",
    "# However the sentence can end after an uppercase character.\n",
    "# Function Name : check_sentence Input : str Output : tuple (True/False,list) eg (False,[\"There must be spaces between words.\"])\n",
    "\n",
    "\n",
    "def check_sentence(ip_str):\n",
    "    index = 0\n",
    "    count = 0\n",
    "    i = 0\n",
    "    len_str = len(ip_str)\n",
    "    if(ip_str[0]<'A' or ip_str[0]>'Z'):\n",
    "        return (False,'Sentence must start with a Uppercase character')\n",
    "    \n",
    "    for index,value in enumerate(ip_str):\n",
    "        if(value == \" \" and ip_str[index+1] == ' '):\n",
    "            return (False,'Two continuous spaces are not allowed.')\n",
    "        \n",
    "    if(ip_str[len_str-1]!='.'):\n",
    "        return (False,'Sentence must end with a full stop(.)')\n",
    "        \n",
    "    ip_list = ip_str.split(' ')\n",
    "    for ip in ip_list:\n",
    "        for i in range(len(ip)):\n",
    "            if('A'<ip[i]<'Z'):\n",
    "                count+=1\n",
    "                if count==2:\n",
    "                    return (False,'Two continuous uppercase characters are not allowed.')\n",
    "        count = 0\n",
    "        \n",
    "    return (\"Sentence is correct\")\n",
    "\n",
    "\n",
    "\n",
    "print(check_sentence('Python is easy.'))"
   ]
  }
 ],
 "metadata": {
  "kernelspec": {
   "display_name": "Python 3",
   "language": "python",
   "name": "python3"
  },
  "language_info": {
   "codemirror_mode": {
    "name": "ipython",
    "version": 3
   },
   "file_extension": ".py",
   "mimetype": "text/x-python",
   "name": "python",
   "nbconvert_exporter": "python",
   "pygments_lexer": "ipython3",
   "version": "3.7.5"
  }
 },
 "nbformat": 4,
 "nbformat_minor": 2
}
